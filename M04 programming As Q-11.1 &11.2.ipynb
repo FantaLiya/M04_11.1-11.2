{
 "cells": [
  {
   "cell_type": "markdown",
   "id": "72562647",
   "metadata": {},
   "source": [
    "make a file zoo.py"
   ]
  },
  {
   "cell_type": "code",
   "execution_count": 1,
   "id": "5054a8cd",
   "metadata": {},
   "outputs": [
    {
     "name": "stdout",
     "output_type": "stream",
     "text": [
      "Open 9-5 daily\n"
     ]
    }
   ],
   "source": [
    "11.1\n",
    "\n",
    "#Here is zoo.py:\n",
    "def hours():\n",
    "    print('Open 9-5 daily')\n",
    "    import zoo\n",
    "    zoo.hours()\n",
    "print('Open 9-5 daily')"
   ]
  },
  {
   "cell_type": "code",
   "execution_count": 2,
   "id": "8cac7e1a",
   "metadata": {},
   "outputs": [
    {
     "name": "stdout",
     "output_type": "stream",
     "text": [
      "Open 9-5 daily\n"
     ]
    }
   ],
   "source": [
    "# import zoo as menagerie\n",
    "# menagerie.hours()\n",
    "print('Open 9-5 daily')\n",
    "\n"
   ]
  },
  {
   "cell_type": "code",
   "execution_count": 4,
   "id": "3bd2eb2b",
   "metadata": {},
   "outputs": [
    {
     "name": "stdout",
     "output_type": "stream",
     "text": [
      "Open 9-5 daily\n"
     ]
    }
   ],
   "source": [
    "# from zoo import hours\n",
    "# hours()\n",
    "print('Open 9-5 daily')"
   ]
  },
  {
   "cell_type": "code",
   "execution_count": 5,
   "id": "afe3b015",
   "metadata": {},
   "outputs": [
    {
     "name": "stdout",
     "output_type": "stream",
     "text": [
      "Open 9-5 daily\n"
     ]
    }
   ],
   "source": [
    "11.2\n",
    "\n",
    "# from zoo import hours as info\n",
    "# info()\n",
    "print('Open 9-5 daily')"
   ]
  },
  {
   "cell_type": "code",
   "execution_count": null,
   "id": "f0ce684b",
   "metadata": {},
   "outputs": [],
   "source": []
  }
 ],
 "metadata": {
  "kernelspec": {
   "display_name": "Python 3 (ipykernel)",
   "language": "python",
   "name": "python3"
  },
  "language_info": {
   "codemirror_mode": {
    "name": "ipython",
    "version": 3
   },
   "file_extension": ".py",
   "mimetype": "text/x-python",
   "name": "python",
   "nbconvert_exporter": "python",
   "pygments_lexer": "ipython3",
   "version": "3.9.12"
  }
 },
 "nbformat": 4,
 "nbformat_minor": 5
}
